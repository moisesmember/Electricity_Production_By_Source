{
 "cells": [
  {
   "cell_type": "code",
   "execution_count": 3,
   "metadata": {},
   "outputs": [
    {
     "name": "stdout",
     "output_type": "stream",
     "text": [
      "Collecting numpy\n",
      "  Downloading https://files.pythonhosted.org/packages/f1/ef/df6ce4d461fa592ae88bd271c3c944f428a2029840ae63ef3e3cd5ef4fde/numpy-1.21.3-cp37-cp37m-win_amd64.whl (14.0MB)\n",
      "Installing collected packages: numpy\n",
      "  Found existing installation: numpy 1.16.5\n",
      "    Uninstalling numpy-1.16.5:\n",
      "Note: you may need to restart the kernel to use updated packages.\n"
     ]
    },
    {
     "name": "stderr",
     "output_type": "stream",
     "text": [
      "ERROR: yellowbrick 1.3.post1 has requirement numpy<1.20,>=1.16.0, but you'll have numpy 1.21.3 which is incompatible.\n",
      "ERROR: Could not install packages due to an EnvironmentError: [WinError 5] Acesso negado: 'c:\\\\programdata\\\\anaconda3\\\\lib\\\\site-packages\\\\numpy\\\\compat\\\\py3k.py'\n",
      "Consider using the `--user` option or check the permissions.\n",
      "\n"
     ]
    }
   ],
   "source": [
    "!pip install numpy --upgrade"
   ]
  },
  {
   "cell_type": "code",
   "execution_count": 4,
   "metadata": {},
   "outputs": [
    {
     "name": "stdout",
     "output_type": "stream",
     "text": [
      "Requirement already satisfied: pandas in c:\\users\\moise\\appdata\\roaming\\python\\python37\\site-packages (1.3.4)\n",
      "Requirement already satisfied: pytz>=2017.3 in c:\\programdata\\anaconda3\\lib\\site-packages (from pandas) (2019.3)\n",
      "Collecting numpy>=1.17.3; platform_machine != \"aarch64\" and platform_machine != \"arm64\" and python_version < \"3.10\" (from pandas)\n",
      "  Using cached https://files.pythonhosted.org/packages/f1/ef/df6ce4d461fa592ae88bd271c3c944f428a2029840ae63ef3e3cd5ef4fde/numpy-1.21.3-cp37-cp37m-win_amd64.whl\n",
      "Requirement already satisfied: python-dateutil>=2.7.3 in c:\\programdata\\anaconda3\\lib\\site-packages (from pandas) (2.8.0)\n",
      "Requirement already satisfied: six>=1.5 in c:\\programdata\\anaconda3\\lib\\site-packages (from python-dateutil>=2.7.3->pandas) (1.12.0)\n",
      "Installing collected packages: numpy\n",
      "Successfully installed numpy-1.21.3\n"
     ]
    },
    {
     "name": "stderr",
     "output_type": "stream",
     "text": [
      "ERROR: yellowbrick 1.3.post1 has requirement numpy<1.20,>=1.16.0, but you'll have numpy 1.21.3 which is incompatible.\n",
      "  WARNING: The script f2py.exe is installed in 'C:\\Users\\moise\\AppData\\Roaming\\Python\\Python37\\Scripts' which is not on PATH.\n",
      "  Consider adding this directory to PATH or, if you prefer to suppress this warning, use --no-warn-script-location.\n"
     ]
    }
   ],
   "source": [
    "!pip install pandas --user"
   ]
  },
  {
   "cell_type": "code",
   "execution_count": 1,
   "metadata": {},
   "outputs": [],
   "source": [
    "import pandas as pd"
   ]
  },
  {
   "cell_type": "code",
   "execution_count": 2,
   "metadata": {},
   "outputs": [],
   "source": [
    "#electricity_producion_general = pd.DataFrame()\n",
    "electricity_producion = pd.read_csv('data/Electricity_Production_By_Source.csv')"
   ]
  },
  {
   "cell_type": "code",
   "execution_count": 3,
   "metadata": {},
   "outputs": [],
   "source": [
    "electricity_producion.rename(columns={'Electricity from coal (TWh)'     :  'Electricity_from_coal_TWh', \n",
    "                                      'Electricity from gas (TWh)'      :  'Electricity_from_gas_TWh',\n",
    "                                      'Electricity from hydro (TWh)'    :  'Electricity_from_hydro_TWh',\n",
    "                                      'Electricity from other renewables (TWh)': 'Electricity_from_other_renewables_TWh',\n",
    "                                      'Electricity from solar (TWh)'    :  'Electricity_from_solar_TWh',\n",
    "                                      'Electricity from oil (TWh)'      :  'Electricity_from_oil_TWh',\n",
    "                                      'Electricity from wind (TWh)'     :  'Electricity_from_wind_TWh',\n",
    "                                      'Electricity from nuclear (TWh)'  :  'Electricity_from_nuclear_TWh'}, \n",
    "                             inplace=True)"
   ]
  },
  {
   "cell_type": "code",
   "execution_count": 4,
   "metadata": {},
   "outputs": [
    {
     "data": {
      "text/plain": [
       "((6241, 11), Index(['Entity', 'Code', 'Year', 'Electricity_from_coal_TWh',\n",
       "        'Electricity_from_gas_TWh', 'Electricity_from_hydro_TWh',\n",
       "        'Electricity_from_other_renewables_TWh', 'Electricity_from_solar_TWh',\n",
       "        'Electricity_from_oil_TWh', 'Electricity_from_wind_TWh',\n",
       "        'Electricity_from_nuclear_TWh'],\n",
       "       dtype='object'))"
      ]
     },
     "execution_count": 4,
     "metadata": {},
     "output_type": "execute_result"
    }
   ],
   "source": [
    "electricity_producion.shape, electricity_producion.columns"
   ]
  },
  {
   "cell_type": "markdown",
   "metadata": {},
   "source": [
    "<ul>\n",
    "    <li>Entity                                     (País)</li>\n",
    "    <li>Code                                       (Código País)</li>\n",
    "    <li>Year                                       (Ano)</li>\n",
    "    <li>Electricity from coal (TWh)                (por Carvão)</li>\n",
    "    <li>Electricity from gas (TWh)                 (por Gás)</li>\n",
    "    <li>Electricity from hydro (TWh)               (por Hidro ou água)</li>\n",
    "    <li>Electricity from other renewables (TWh)    (por outras energias renováveis)</li>\n",
    "    <li>Electricity from solar (TWh)               (por Solar)</li>\n",
    "    <li>Electricity from oil (TWh)                 (por Óleo ou Petróleo)</li>\n",
    "    <li>Electricity from wind (TWh)                (por Vento)</li>\n",
    "    <li>Electricity from nuclear (TWh)             (Nuclear)</li>\n",
    "</ul>"
   ]
  },
  {
   "cell_type": "code",
   "execution_count": 5,
   "metadata": {},
   "outputs": [
    {
     "data": {
      "text/html": [
       "<div>\n",
       "<style scoped>\n",
       "    .dataframe tbody tr th:only-of-type {\n",
       "        vertical-align: middle;\n",
       "    }\n",
       "\n",
       "    .dataframe tbody tr th {\n",
       "        vertical-align: top;\n",
       "    }\n",
       "\n",
       "    .dataframe thead th {\n",
       "        text-align: right;\n",
       "    }\n",
       "</style>\n",
       "<table border=\"1\" class=\"dataframe\">\n",
       "  <thead>\n",
       "    <tr style=\"text-align: right;\">\n",
       "      <th></th>\n",
       "      <th>Entity</th>\n",
       "      <th>Code</th>\n",
       "      <th>Year</th>\n",
       "      <th>Electricity_from_coal_TWh</th>\n",
       "      <th>Electricity_from_gas_TWh</th>\n",
       "      <th>Electricity_from_hydro_TWh</th>\n",
       "      <th>Electricity_from_other_renewables_TWh</th>\n",
       "      <th>Electricity_from_solar_TWh</th>\n",
       "      <th>Electricity_from_oil_TWh</th>\n",
       "      <th>Electricity_from_wind_TWh</th>\n",
       "      <th>Electricity_from_nuclear_TWh</th>\n",
       "    </tr>\n",
       "  </thead>\n",
       "  <tbody>\n",
       "    <tr>\n",
       "      <th>0</th>\n",
       "      <td>Afghanistan</td>\n",
       "      <td>AFG</td>\n",
       "      <td>2000</td>\n",
       "      <td>0.0</td>\n",
       "      <td>0.155</td>\n",
       "      <td>0.312</td>\n",
       "      <td>0.0</td>\n",
       "      <td>0.0</td>\n",
       "      <td>0.0</td>\n",
       "      <td>0.0</td>\n",
       "      <td>0.0</td>\n",
       "    </tr>\n",
       "    <tr>\n",
       "      <th>1</th>\n",
       "      <td>Afghanistan</td>\n",
       "      <td>AFG</td>\n",
       "      <td>2001</td>\n",
       "      <td>0.0</td>\n",
       "      <td>0.094</td>\n",
       "      <td>0.498</td>\n",
       "      <td>0.0</td>\n",
       "      <td>0.0</td>\n",
       "      <td>0.0</td>\n",
       "      <td>0.0</td>\n",
       "      <td>0.0</td>\n",
       "    </tr>\n",
       "    <tr>\n",
       "      <th>2</th>\n",
       "      <td>Afghanistan</td>\n",
       "      <td>AFG</td>\n",
       "      <td>2002</td>\n",
       "      <td>0.0</td>\n",
       "      <td>0.132</td>\n",
       "      <td>0.555</td>\n",
       "      <td>0.0</td>\n",
       "      <td>0.0</td>\n",
       "      <td>0.0</td>\n",
       "      <td>0.0</td>\n",
       "      <td>0.0</td>\n",
       "    </tr>\n",
       "    <tr>\n",
       "      <th>3</th>\n",
       "      <td>Afghanistan</td>\n",
       "      <td>AFG</td>\n",
       "      <td>2003</td>\n",
       "      <td>0.0</td>\n",
       "      <td>0.309</td>\n",
       "      <td>0.630</td>\n",
       "      <td>0.0</td>\n",
       "      <td>0.0</td>\n",
       "      <td>0.0</td>\n",
       "      <td>0.0</td>\n",
       "      <td>0.0</td>\n",
       "    </tr>\n",
       "    <tr>\n",
       "      <th>4</th>\n",
       "      <td>Afghanistan</td>\n",
       "      <td>AFG</td>\n",
       "      <td>2004</td>\n",
       "      <td>0.0</td>\n",
       "      <td>0.329</td>\n",
       "      <td>0.565</td>\n",
       "      <td>0.0</td>\n",
       "      <td>0.0</td>\n",
       "      <td>0.0</td>\n",
       "      <td>0.0</td>\n",
       "      <td>0.0</td>\n",
       "    </tr>\n",
       "  </tbody>\n",
       "</table>\n",
       "</div>"
      ],
      "text/plain": [
       "        Entity Code  Year  Electricity_from_coal_TWh  \\\n",
       "0  Afghanistan  AFG  2000                        0.0   \n",
       "1  Afghanistan  AFG  2001                        0.0   \n",
       "2  Afghanistan  AFG  2002                        0.0   \n",
       "3  Afghanistan  AFG  2003                        0.0   \n",
       "4  Afghanistan  AFG  2004                        0.0   \n",
       "\n",
       "   Electricity_from_gas_TWh  Electricity_from_hydro_TWh  \\\n",
       "0                     0.155                       0.312   \n",
       "1                     0.094                       0.498   \n",
       "2                     0.132                       0.555   \n",
       "3                     0.309                       0.630   \n",
       "4                     0.329                       0.565   \n",
       "\n",
       "   Electricity_from_other_renewables_TWh  Electricity_from_solar_TWh  \\\n",
       "0                                    0.0                         0.0   \n",
       "1                                    0.0                         0.0   \n",
       "2                                    0.0                         0.0   \n",
       "3                                    0.0                         0.0   \n",
       "4                                    0.0                         0.0   \n",
       "\n",
       "   Electricity_from_oil_TWh  Electricity_from_wind_TWh  \\\n",
       "0                       0.0                        0.0   \n",
       "1                       0.0                        0.0   \n",
       "2                       0.0                        0.0   \n",
       "3                       0.0                        0.0   \n",
       "4                       0.0                        0.0   \n",
       "\n",
       "   Electricity_from_nuclear_TWh  \n",
       "0                           0.0  \n",
       "1                           0.0  \n",
       "2                           0.0  \n",
       "3                           0.0  \n",
       "4                           0.0  "
      ]
     },
     "execution_count": 5,
     "metadata": {},
     "output_type": "execute_result"
    }
   ],
   "source": [
    "electricity_producion.head(5)"
   ]
  },
  {
   "cell_type": "markdown",
   "metadata": {},
   "source": [
    "## Limpando os Dados"
   ]
  },
  {
   "cell_type": "markdown",
   "metadata": {},
   "source": [
    "### Preenchendo os nulos"
   ]
  },
  {
   "cell_type": "code",
   "execution_count": 11,
   "metadata": {},
   "outputs": [
    {
     "data": {
      "text/plain": [
       "Entity                                   0\n",
       "Year                                     0\n",
       "Electricity_from_coal_TWh                0\n",
       "Electricity_from_gas_TWh                 0\n",
       "Electricity_from_hydro_TWh               0\n",
       "Electricity_from_other_renewables_TWh    0\n",
       "Electricity_from_solar_TWh               0\n",
       "Electricity_from_oil_TWh                 0\n",
       "Electricity_from_wind_TWh                0\n",
       "Electricity_from_nuclear_TWh             0\n",
       "dtype: int64"
      ]
     },
     "execution_count": 11,
     "metadata": {},
     "output_type": "execute_result"
    }
   ],
   "source": [
    "electricity_producion.isnull().sum()"
   ]
  },
  {
   "cell_type": "code",
   "execution_count": 7,
   "metadata": {},
   "outputs": [],
   "source": [
    "# Atribuindo valor 0 aos valores NaN (ausentes)\n",
    "electricity_producion['Electricity_from_coal_TWh'].fillna( 0 , inplace=True) # Atualiza Informação\n",
    "electricity_producion['Electricity_from_gas_TWh'].fillna(  0 , inplace=True ) # Atualiza Informação\n",
    "electricity_producion['Electricity_from_hydro_TWh'].fillna( 0 , inplace=True ) # Atualiza Informação\n",
    "electricity_producion['Electricity_from_other_renewables_TWh'].fillna( 0 , inplace=True ) # Atualiza Informação\n",
    "electricity_producion['Electricity_from_solar_TWh'].fillna( 0 , inplace=True ) # Atualiza Informação\n",
    "electricity_producion['Electricity_from_oil_TWh'].fillna( 0 , inplace=True ) # Atualiza Informação\n",
    "electricity_producion['Electricity_from_wind_TWh'].fillna( 0 , inplace=True ) # Atualiza Informação\n",
    "electricity_producion['Electricity_from_nuclear_TWh'].fillna( 0 , inplace=True ) # Atualiza Informação      "
   ]
  },
  {
   "cell_type": "code",
   "execution_count": 10,
   "metadata": {},
   "outputs": [],
   "source": [
    "#Exclui atributo categório\n",
    "electricity_producion.drop(columns=['Code'], inplace=True)"
   ]
  },
  {
   "cell_type": "code",
   "execution_count": null,
   "metadata": {},
   "outputs": [],
   "source": []
  },
  {
   "cell_type": "code",
   "execution_count": 13,
   "metadata": {},
   "outputs": [
    {
     "data": {
      "text/plain": [
       "(6241, 10)"
      ]
     },
     "execution_count": 13,
     "metadata": {},
     "output_type": "execute_result"
    }
   ],
   "source": [
    "electricity_producion.shape"
   ]
  },
  {
   "cell_type": "code",
   "execution_count": 15,
   "metadata": {},
   "outputs": [
    {
     "data": {
      "text/html": [
       "<div>\n",
       "<style scoped>\n",
       "    .dataframe tbody tr th:only-of-type {\n",
       "        vertical-align: middle;\n",
       "    }\n",
       "\n",
       "    .dataframe tbody tr th {\n",
       "        vertical-align: top;\n",
       "    }\n",
       "\n",
       "    .dataframe thead th {\n",
       "        text-align: right;\n",
       "    }\n",
       "</style>\n",
       "<table border=\"1\" class=\"dataframe\">\n",
       "  <thead>\n",
       "    <tr style=\"text-align: right;\">\n",
       "      <th></th>\n",
       "      <th>Year</th>\n",
       "      <th>Electricity_from_coal_TWh</th>\n",
       "      <th>Electricity_from_gas_TWh</th>\n",
       "      <th>Electricity_from_hydro_TWh</th>\n",
       "      <th>Electricity_from_other_renewables_TWh</th>\n",
       "      <th>Electricity_from_solar_TWh</th>\n",
       "      <th>Electricity_from_oil_TWh</th>\n",
       "      <th>Electricity_from_wind_TWh</th>\n",
       "      <th>Electricity_from_nuclear_TWh</th>\n",
       "    </tr>\n",
       "  </thead>\n",
       "  <tbody>\n",
       "    <tr>\n",
       "      <th>count</th>\n",
       "      <td>6241.000000</td>\n",
       "      <td>6241.000000</td>\n",
       "      <td>6241.000000</td>\n",
       "      <td>6241.000000</td>\n",
       "      <td>6241.000000</td>\n",
       "      <td>6241.000000</td>\n",
       "      <td>6241.000000</td>\n",
       "      <td>6241.000000</td>\n",
       "      <td>6241.000000</td>\n",
       "    </tr>\n",
       "    <tr>\n",
       "      <th>mean</th>\n",
       "      <td>2005.509534</td>\n",
       "      <td>119.506384</td>\n",
       "      <td>63.137545</td>\n",
       "      <td>53.165487</td>\n",
       "      <td>5.818491</td>\n",
       "      <td>2.014825</td>\n",
       "      <td>21.843347</td>\n",
       "      <td>6.316172</td>\n",
       "      <td>46.874202</td>\n",
       "    </tr>\n",
       "    <tr>\n",
       "      <th>std</th>\n",
       "      <td>9.299156</td>\n",
       "      <td>653.767501</td>\n",
       "      <td>314.940881</td>\n",
       "      <td>257.725337</td>\n",
       "      <td>32.246281</td>\n",
       "      <td>21.726406</td>\n",
       "      <td>101.273813</td>\n",
       "      <td>51.570081</td>\n",
       "      <td>227.223144</td>\n",
       "    </tr>\n",
       "    <tr>\n",
       "      <th>min</th>\n",
       "      <td>1985.000000</td>\n",
       "      <td>0.000000</td>\n",
       "      <td>0.000000</td>\n",
       "      <td>0.000000</td>\n",
       "      <td>0.000000</td>\n",
       "      <td>0.000000</td>\n",
       "      <td>0.000000</td>\n",
       "      <td>0.000000</td>\n",
       "      <td>0.000000</td>\n",
       "    </tr>\n",
       "    <tr>\n",
       "      <th>25%</th>\n",
       "      <td>2000.000000</td>\n",
       "      <td>0.000000</td>\n",
       "      <td>0.000000</td>\n",
       "      <td>0.018000</td>\n",
       "      <td>0.000000</td>\n",
       "      <td>0.000000</td>\n",
       "      <td>0.000000</td>\n",
       "      <td>0.000000</td>\n",
       "      <td>0.000000</td>\n",
       "    </tr>\n",
       "    <tr>\n",
       "      <th>50%</th>\n",
       "      <td>2007.000000</td>\n",
       "      <td>0.000000</td>\n",
       "      <td>0.002458</td>\n",
       "      <td>1.957000</td>\n",
       "      <td>0.009000</td>\n",
       "      <td>0.000000</td>\n",
       "      <td>0.362000</td>\n",
       "      <td>0.000000</td>\n",
       "      <td>0.000000</td>\n",
       "    </tr>\n",
       "    <tr>\n",
       "      <th>75%</th>\n",
       "      <td>2013.000000</td>\n",
       "      <td>8.607580</td>\n",
       "      <td>16.258000</td>\n",
       "      <td>14.061000</td>\n",
       "      <td>0.673000</td>\n",
       "      <td>0.009000</td>\n",
       "      <td>5.360034</td>\n",
       "      <td>0.049057</td>\n",
       "      <td>0.000000</td>\n",
       "    </tr>\n",
       "    <tr>\n",
       "      <th>max</th>\n",
       "      <td>2020.000000</td>\n",
       "      <td>9345.340997</td>\n",
       "      <td>5943.112329</td>\n",
       "      <td>4355.041636</td>\n",
       "      <td>702.887552</td>\n",
       "      <td>844.385951</td>\n",
       "      <td>1364.578206</td>\n",
       "      <td>1590.189440</td>\n",
       "      <td>2720.674471</td>\n",
       "    </tr>\n",
       "  </tbody>\n",
       "</table>\n",
       "</div>"
      ],
      "text/plain": [
       "              Year  Electricity_from_coal_TWh  Electricity_from_gas_TWh  \\\n",
       "count  6241.000000                6241.000000               6241.000000   \n",
       "mean   2005.509534                 119.506384                 63.137545   \n",
       "std       9.299156                 653.767501                314.940881   \n",
       "min    1985.000000                   0.000000                  0.000000   \n",
       "25%    2000.000000                   0.000000                  0.000000   \n",
       "50%    2007.000000                   0.000000                  0.002458   \n",
       "75%    2013.000000                   8.607580                 16.258000   \n",
       "max    2020.000000                9345.340997               5943.112329   \n",
       "\n",
       "       Electricity_from_hydro_TWh  Electricity_from_other_renewables_TWh  \\\n",
       "count                 6241.000000                            6241.000000   \n",
       "mean                    53.165487                               5.818491   \n",
       "std                    257.725337                              32.246281   \n",
       "min                      0.000000                               0.000000   \n",
       "25%                      0.018000                               0.000000   \n",
       "50%                      1.957000                               0.009000   \n",
       "75%                     14.061000                               0.673000   \n",
       "max                   4355.041636                             702.887552   \n",
       "\n",
       "       Electricity_from_solar_TWh  Electricity_from_oil_TWh  \\\n",
       "count                 6241.000000               6241.000000   \n",
       "mean                     2.014825                 21.843347   \n",
       "std                     21.726406                101.273813   \n",
       "min                      0.000000                  0.000000   \n",
       "25%                      0.000000                  0.000000   \n",
       "50%                      0.000000                  0.362000   \n",
       "75%                      0.009000                  5.360034   \n",
       "max                    844.385951               1364.578206   \n",
       "\n",
       "       Electricity_from_wind_TWh  Electricity_from_nuclear_TWh  \n",
       "count                6241.000000                   6241.000000  \n",
       "mean                    6.316172                     46.874202  \n",
       "std                    51.570081                    227.223144  \n",
       "min                     0.000000                      0.000000  \n",
       "25%                     0.000000                      0.000000  \n",
       "50%                     0.000000                      0.000000  \n",
       "75%                     0.049057                      0.000000  \n",
       "max                  1590.189440                   2720.674471  "
      ]
     },
     "execution_count": 15,
     "metadata": {},
     "output_type": "execute_result"
    }
   ],
   "source": [
    "electricity_producion.describe()"
   ]
  },
  {
   "cell_type": "code",
   "execution_count": 175,
   "metadata": {},
   "outputs": [],
   "source": []
  },
  {
   "cell_type": "code",
   "execution_count": 169,
   "metadata": {},
   "outputs": [],
   "source": [
    "#mask = electricity_producion.isnull().any(axis=1)\n",
    "#electricity_producion[mask].Code.head(200)\n",
    "\n",
    "#electricity_producion.iloc[:,3:].describe()\n",
    "\n",
    "#electricity_producion.Entity.value_counts(dropna=True)"
   ]
  },
  {
   "cell_type": "code",
   "execution_count": 164,
   "metadata": {},
   "outputs": [],
   "source": [
    "#selected_rows = electricity_producion[electricity_producion.isnull().any(axis=1)]\n",
    "\n",
    "#selected_rows = electricity_producion[electricity_producion['Electricity_from_coal_TWh'].isna()]"
   ]
  },
  {
   "cell_type": "code",
   "execution_count": 18,
   "metadata": {
    "scrolled": false
   },
   "outputs": [],
   "source": [
    "#electricity_producion.loc[electricity_producion['Entity']=='Algeria', 'Electricity_from_hydro_TWh']"
   ]
  },
  {
   "cell_type": "code",
   "execution_count": 16,
   "metadata": {},
   "outputs": [],
   "source": [
    "#electricity_producion.groupby(['Entity']).size().reset_index(name='counts')"
   ]
  },
  {
   "cell_type": "code",
   "execution_count": 17,
   "metadata": {},
   "outputs": [],
   "source": [
    "# Dando update nos valores da coluna Code\n",
    "#electricity_producion.update(electricity_producion['Code'].fillna(1))"
   ]
  },
  {
   "cell_type": "code",
   "execution_count": 51,
   "metadata": {},
   "outputs": [],
   "source": [
    "# Contanto ocorrências de idade média\n",
    "#electricity_producion['Entity'].loc[electricity_producion['Entity'] == 'Brazil'].count()"
   ]
  },
  {
   "cell_type": "code",
   "execution_count": null,
   "metadata": {},
   "outputs": [],
   "source": [
    "electricity_producion.update(electricity_producion['Code'].fillna(1))"
   ]
  },
  {
   "cell_type": "code",
   "execution_count": 35,
   "metadata": {},
   "outputs": [
    {
     "data": {
      "text/plain": [
       "<map at 0x1fbab80beb0>"
      ]
     },
     "execution_count": 35,
     "metadata": {},
     "output_type": "execute_result"
    }
   ],
   "source": [
    "country = electricity_producion.groupby(['Entity']).size().reset_index(name='counts')['Entity']\n",
    "\n",
    "def updating( value ):\n",
    "    electricity_producion.loc[electricity_producion['Entity'] == '{0}'.format(value), 'Electricity_from_coal_TWh'] = electricity_producion.query('Entity == \"{0}\"'.format(value))['Electricity_from_hydro_TWh'].mean()\n",
    "\n",
    "map(updating, country)"
   ]
  },
  {
   "cell_type": "code",
   "execution_count": 37,
   "metadata": {},
   "outputs": [],
   "source": []
  },
  {
   "cell_type": "code",
   "execution_count": null,
   "metadata": {},
   "outputs": [],
   "source": []
  },
  {
   "cell_type": "code",
   "execution_count": null,
   "metadata": {},
   "outputs": [],
   "source": []
  },
  {
   "cell_type": "code",
   "execution_count": null,
   "metadata": {},
   "outputs": [],
   "source": []
  },
  {
   "cell_type": "code",
   "execution_count": 177,
   "metadata": {},
   "outputs": [],
   "source": [
    "frames = []\n",
    "\n",
    "#country = pd.Series( (v[0] for v in [['Afghanistan'],['Africa']]) ) \n",
    "country = electricity_producion.groupby(['Entity']).size().reset_index(name='counts')['Entity']\n",
    "\n",
    "def particion( value ):\n",
    "    print('Entrou')\n",
    "    table = electricity_producion.query('Entity == \"{0}\"'.format(value)) # Particiona Dataframe\n",
    "    print(table)\n",
    "    if table.empty == False: # Se o DataFrame não for vazio\n",
    "        table['Electricity_from_coal_TWh'].fillna( round(table['Electricity_from_coal_TWh'].mean() , 3) , inplace=True) # Atualiza Informação\n",
    "        table['Electricity_from_gas_TWh'].fillna(  round(table['Electricity_from_gas_TWh'].mean() , 3) , inplace=True ) # Atualiza Informação\n",
    "        table['Electricity_from_hydro_TWh'].fillna( round(table['Electricity_from_hydro_TWh'].mean() , 3) , inplace=True ) # Atualiza Informação\n",
    "        table['Electricity_from_other_renewables_TWh'].fillna( round(table['Electricity_from_other_renewables_TWh'].mean() , 3) , inplace=True ) # Atualiza Informação\n",
    "        table['Electricity_from_solar_TWh'].fillna( round(table['Electricity_from_solar_TWh'].mean() , 3) , inplace=True ) # Atualiza Informação\n",
    "        table['Electricity_from_oil_TWh'].fillna( round(table['Electricity_from_oil_TWh'].mean() , 3) , inplace=True ) # Atualiza Informação\n",
    "        table['Electricity_from_wind_TWh'].fillna( round(table['Electricity_from_wind_TWh'].mean() , 3) , inplace=True ) # Atualiza Informação\n",
    "        table['Electricity_from_nuclear_TWh'].fillna( round(table['Electricity_from_nuclear_TWh'].mean() , 3) , inplace=True ) # Atualiza Informação\n",
    "        frames.append(table) # Copia a lista\n",
    "        del table # Exclui partição \n",
    "        \n",
    "        \n",
    "list(map(particion, country))\n",
    "\n",
    "electricity_producion_general = pd.concat(frames)    \n",
    "frames.clear()"
   ]
  }
 ],
 "metadata": {
  "kernelspec": {
   "display_name": "Python 3",
   "language": "python",
   "name": "python3"
  },
  "language_info": {
   "codemirror_mode": {
    "name": "ipython",
    "version": 3
   },
   "file_extension": ".py",
   "mimetype": "text/x-python",
   "name": "python",
   "nbconvert_exporter": "python",
   "pygments_lexer": "ipython3",
   "version": "3.7.4"
  }
 },
 "nbformat": 4,
 "nbformat_minor": 5
}
